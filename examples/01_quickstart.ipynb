{
 "cells": [
  {
   "cell_type": "markdown",
   "metadata": {},
   "source": [
    "# Example 1: Quickstart\n",
    "In just a few lines, you can create a fully functional Retrieval-Augmented Generation (RAG) agent."
   ]
  },
  {
   "cell_type": "code",
   "execution_count": 1,
   "metadata": {},
   "outputs": [],
   "source": [
    "import sys\n",
    "import os\n",
    "\n",
    "sys.path.append(os.path.abspath(\"..\"))"
   ]
  },
  {
   "cell_type": "code",
   "execution_count": null,
   "metadata": {},
   "outputs": [],
   "source": [
    "import os\n",
    "from agenticrag import RAGAgent\n",
    "\n",
    "# This is needed for default LLM, but you can pass a custom LLM from langchain BaseChatModel instance in almost all classes/functions that requires LLM\n",
    "os.environ[\"GEMINI_API_KEY\"] = \"<YOUR GEMINI API KEY>\" \n",
    "\n",
    "agent = RAGAgent()"
   ]
  },
  {
   "cell_type": "code",
   "execution_count": 3,
   "metadata": {},
   "outputs": [
    {
     "data": {
      "text/plain": [
       "MetaData(id=None, format=<DataFormat.TEXT: 'text'>, name='everest_fact', description='This data contains random fact about Mount Everest', source='https://en.wikipedia.org/wiki/Mount_Everest')"
      ]
     },
     "execution_count": 3,
     "metadata": {},
     "output_type": "execute_result"
    }
   ],
   "source": [
    "# Load your data\n",
    "agent.load_text(\n",
    "    text=\"It's the only country in the world with a non-rectangular national flag\",\n",
    "    name=\"nepal_fact\",\n",
    "    description=\"This data contains random fact about nepal\",\n",
    "    source=\"https://en.wikipedia.org/wiki/Nepal\"\n",
    ")\n",
    "\n",
    "agent.load_text(\n",
    "    text=\"Tenzing Norgay and Edmund Hillary were the first to successfully summit Mount Everest in 1953\",\n",
    "    name=\"everest_fact\",\n",
    "    description=\"This data contains random fact about Mount Everest\",\n",
    "    source=\"https://en.wikipedia.org/wiki/Mount_Everest\"\n",
    ")"
   ]
  },
  {
   "cell_type": "code",
   "execution_count": 4,
   "metadata": {},
   "outputs": [
    {
     "name": "stdout",
     "output_type": "stream",
     "text": [
      "Nepal is the only country in the world with a non-rectangular national flag.\n"
     ]
    }
   ],
   "source": [
    "response = agent.invoke(\"Give me a random fact about nepal\")\n",
    "print(response.content)"
   ]
  },
  {
   "cell_type": "markdown",
   "metadata": {},
   "source": [
    "## Loading from web and pdfs"
   ]
  },
  {
   "cell_type": "code",
   "execution_count": 5,
   "metadata": {},
   "outputs": [
    {
     "data": {
      "text/plain": [
       "MetaData(id=None, format=<DataFormat.TEXT: 'text'>, name='rag_wiki', description='This Wikipedia article describes Retrieval-Augmented Generation (RAG), a technique used with large language models (LLMs) to improve their responses by retrieving and incorporating information from external sources. It enhances LLMs with domain-specific or updated knowledge, allowing them to provide more accurate and relevant answers. The article covers the process, improvements, challenges, and applications of RAG in various contexts.', source='https://en.wikipedia.org/wiki/Retrieval-augmented_generation')"
      ]
     },
     "execution_count": 5,
     "metadata": {},
     "output_type": "execute_result"
    }
   ],
   "source": [
    "agent.load_pdf(\n",
    "    path=\"data/attention.pdf\",\n",
    "    name=\"attention_paper\",\n",
    ")\n",
    "agent.load_web(\n",
    "    url=\"https://en.wikipedia.org/wiki/Retrieval-augmented_generation\",\n",
    "    name=\"rag_wiki\"\n",
    ")"
   ]
  },
  {
   "cell_type": "code",
   "execution_count": 6,
   "metadata": {},
   "outputs": [
    {
     "name": "stdout",
     "output_type": "stream",
     "text": [
      "Answer:  Self-attention, also known as intra-attention, is an attention mechanism that relates different positions within a single sequence to compute a representation of that sequence.\n",
      "Sources:  ['attention_paper']\n"
     ]
    }
   ],
   "source": [
    "response = agent.invoke(\"What is self attention?\")\n",
    "\n",
    "print(\"Answer: \", response.content)\n",
    "print(\"Sources: \", [s.name for s in response.datasets])"
   ]
  },
  {
   "cell_type": "code",
   "execution_count": 7,
   "metadata": {},
   "outputs": [
    {
     "name": "stdout",
     "output_type": "stream",
     "text": [
      "Answer:  According to *Ars Technica*, in the context of Retrieval-Augmented Generation (RAG), augmentation involves enhancing the model's external knowledge base with updated information. This approach avoids the need to retrain the model when new information becomes available, allowing for more efficient knowledge updates.\n",
      "Sources:  ['rag_wiki']\n"
     ]
    }
   ],
   "source": [
    "response = agent.invoke(\"What is Augmentation?\")\n",
    "\n",
    "print(\"Answer: \", response.content)\n",
    "print(\"Sources: \", [s.name for s in response.datasets])"
   ]
  }
 ],
 "metadata": {
  "kernelspec": {
   "display_name": "agenticrag",
   "language": "python",
   "name": "python3"
  },
  "language_info": {
   "codemirror_mode": {
    "name": "ipython",
    "version": 3
   },
   "file_extension": ".py",
   "mimetype": "text/x-python",
   "name": "python",
   "nbconvert_exporter": "python",
   "pygments_lexer": "ipython3",
   "version": "3.10.16"
  }
 },
 "nbformat": 4,
 "nbformat_minor": 2
}
