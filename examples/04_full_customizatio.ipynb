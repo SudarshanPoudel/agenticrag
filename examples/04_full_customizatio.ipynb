{
 "cells": [
  {
   "cell_type": "markdown",
   "metadata": {},
   "source": [
    "# AgenticRAG: Full Customization Guide\n",
    "\n",
    "## Introduction\n",
    "\n",
    "So far, we've explored how to use RAGAgent's built-in capabilities to load datasets and work with multiple retrievers and tasks. But what if you want more control? Can you add your own logic for particular data types, retrievers, or tasks?\n",
    "\n",
    "**Absolutely!** In this notebook, we'll explore how to customize each component of the AgenticRAG system."
   ]
  },
  {
   "cell_type": "markdown",
   "metadata": {},
   "source": [
    "\n",
    "## 1. Stores: The Foundation\n",
    "\n",
    "The foundation of our agentic RAG system is a highly customizable storage system that lets us store various data types consistently. The library provides two built-in storage backends:\n",
    "\n",
    "- **SQLBackend**\n",
    "- **ChromaBackend**\n",
    "\n",
    "You can also create your own storage backend by inheriting from the `BaseBackend` abstract class.\n",
    "\n",
    "### Core Store Types\n",
    "\n",
    "Using these backends, we have individual stores (essentially tables in SQL backend) with their own model and schema types:\n",
    "\n",
    "- **MetaStore**: Stores metadata about all datasets (required)\n",
    "- **TextStore**: Manages text-based data\n",
    "- **TableStore**: Handles tabular data\n",
    "- **ExternalDBStore**: Interfaces with external databases\n",
    "\n",
    "Each store provides basic CRUD operations (add, update, delete, get, get_all, index) and may include additional methods like `search_similar` in specific implementations."
   ]
  },
  {
   "cell_type": "code",
   "execution_count": 1,
   "metadata": {},
   "outputs": [],
   "source": [
    "import sys\n",
    "import os\n",
    "\n",
    "sys.path.append(os.path.abspath(\"..\"))"
   ]
  },
  {
   "cell_type": "code",
   "execution_count": null,
   "metadata": {},
   "outputs": [],
   "source": [
    "import os\n",
    "from agenticrag.stores import MetaStore, TextStore, TableStore, ExternalDBStore\n",
    "\n",
    "# Create a directory for data storage\n",
    "os.mkdir(\".agenticrag_data_custom\") if not os.path.exists(\".agenticrag_data_custom\") else None\n",
    "\n",
    "# Define storage locations\n",
    "SQL_DB_CONNECTION = \"sqlite:///.agenticrag_data_custom/agenticrag.db\"\n",
    "CHROMA_PERSISTENT_FOLDER = \".agenticrag_data_custom\"\n",
    "\n",
    "# Initialize stores\n",
    "meta_store = MetaStore(connection_url=SQL_DB_CONNECTION)\n",
    "table_store = TableStore(connection_url=SQL_DB_CONNECTION)\n",
    "external_db_store = ExternalDBStore(connection_url=SQL_DB_CONNECTION)\n",
    "text_store = TextStore(persistent_dir=CHROMA_PERSISTENT_FOLDER)"
   ]
  },
  {
   "cell_type": "markdown",
   "metadata": {},
   "source": [
    "### Adding Data Manually\n",
    "\n",
    "You can add data directly to stores, but it requires handling several steps:\n"
   ]
  },
  {
   "cell_type": "code",
   "execution_count": null,
   "metadata": {},
   "outputs": [],
   "source": [
    "from agenticrag.types import TextData, TableData, MetaData, DataFormat\n",
    "\n",
    "# Add text data\n",
    "text_store.add(\n",
    "    TextData(\n",
    "        id=\"text_1\", \n",
    "        name=\"random_fact\",  \n",
    "        text=\"The sun rises in the east\"\n",
    "    )\n",
    ")\n",
    "\n",
    "# Add table data\n",
    "table_store.add(\n",
    "    TableData(\n",
    "        id=1,\n",
    "        name=\"iris\",\n",
    "        path=\"data/iris.csv\",\n",
    "        structure_summary=\"\"\"The Iris Flowers Dataset, it has the following columns:\n",
    "        Id(int): Id of the entry\n",
    "        SepalLengthCm (float): Sepal length in cm\n",
    "        SepalWidthCm (float): Sepal width in cm\n",
    "        PetalLengthCm (float): Petal length in cm\n",
    "        PetalWidthCm (float): Petal width in cm\n",
    "        Species (str): Name of the iris species\n",
    "        \"\"\",\n",
    "    )\n",
    ")\n",
    "\n",
    "# Don't forget to add metadata entries\n",
    "meta_store.add(\n",
    "    MetaData(\n",
    "        name=\"random_fact\",\n",
    "        format=DataFormat.TEXT,\n",
    "        description=\"This data contains random fact\",\n",
    "    )\n",
    ")\n",
    "\n",
    "meta_store.add(\n",
    "    MetaData(\n",
    "        name=\"iris\",\n",
    "        description=\"This data contains information on iris flowers and their different categories\",\n",
    "        format=DataFormat.TABLE,\n",
    "    )\n",
    ")"
   ]
  },
  {
   "cell_type": "markdown",
   "metadata": {},
   "source": [
    "\n",
    "As you can see, adding data directly to stores can be complex, especially for structured data types. You must also remember to update the MetaStore accordingly. This is where Loaders come in handy.\n",
    "\n",
    "## 2. Loaders: Simplifying Data Ingestion\n",
    "\n",
    "Loaders make adding data to stores convenient by handling complex transformations from various sources (PDFs, databases, raw texts, web pages, etc.) to store-compatible formats.\n",
    "\n",
    "You can create custom Loader classes by inheriting from the `BaseLoader` abstract class. Loaders help avoid the complexity of converting inconsistent data types into consistent, store-compatible formats.\n",
    "\n",
    "### Example: Using Built-in Loaders"
   ]
  },
  {
   "cell_type": "code",
   "execution_count": null,
   "metadata": {},
   "outputs": [],
   "source": [
    "from agenticrag.loaders import TextLoader, TableLoader\n",
    "\n",
    "# Initialize loaders\n",
    "text_loader = TextLoader(text_store, meta_store)\n",
    "table_loader = TableLoader(table_store, meta_store, persistence_dir=\".agenticrag_data_custom/tables\")\n",
    "\n",
    "# Load a PDF file - parsing, chunking, description generation handled automatically\n",
    "text_loader.load_pdf(path=\"data/attention.pdf\")"
   ]
  },
  {
   "cell_type": "markdown",
   "metadata": {},
   "source": [
    "The beauty of this design is its modularity. If you want custom logic for PDF processing or chunking, you can create a separate loader while keeping the rest of the system intact.\n",
    "\n",
    "### Viewing Stored Data"
   ]
  },
  {
   "cell_type": "code",
   "execution_count": null,
   "metadata": {},
   "outputs": [],
   "source": [
    "import pandas as pd\n",
    "\n",
    "# View all text data\n",
    "all_text = text_store.get_all()\n",
    "df = pd.DataFrame([text.model_dump() for text in all_text])\n",
    "df\n",
    "\n",
    "# View table data\n",
    "pd.DataFrame([table.model_dump() for table in table_store.get_all()])\n",
    "\n",
    "# View metadata\n",
    "pd.DataFrame([meta.model_dump() for meta in meta_store.get_all()])"
   ]
  },
  {
   "cell_type": "markdown",
   "metadata": {},
   "source": [
    "## 3. Connectors: Interfacing with External Sources\n",
    "\n",
    "Connectors are similar to loaders but specifically designed to interface with external data sources rather than loading raw data. Currently, we have an ExternalDBConnector for connecting to external SQL databases."
   ]
  },
  {
   "cell_type": "code",
   "execution_count": null,
   "metadata": {},
   "outputs": [],
   "source": [
    "from agenticrag.connectors import ExternalDBConnector\n",
    "\n",
    "connector = ExternalDBConnector(external_db_store, meta_store)\n",
    "\n",
    "# Connect to an external database\n",
    "connector.connect_db(name=\"movie_database\", connection_url_env_var=\"DATABASE_URL\")\n",
    "\n",
    "# View updated metadata\n",
    "pd.DataFrame([meta.model_dump() for meta in meta_store.get_all()])"
   ]
  },
  {
   "cell_type": "markdown",
   "metadata": {},
   "source": [
    "## 4. Retrievers: Finding Relevant Data\n",
    "\n",
    "After loading data, the next task is retrieval. Retrievers are tools or agents that take specific input formats and retrieve relevant data. All retrievers implement the `BaseRetriever` abstract class.\n",
    "\n",
    "Instead of returning data directly, retrievers typically save relevant information to files (.txt, .csv, etc.) and return a success message with the file path. This approach prevents large data from being passed through unnecessary LLM calls.\n"
   ]
  },
  {
   "cell_type": "code",
   "execution_count": null,
   "metadata": {},
   "outputs": [],
   "source": [
    "from agenticrag.retrievers import SQLRetriever, VectorRetriever, TableRetriever\n",
    "\n",
    "# Initialize retrievers\n",
    "sql_retriever = SQLRetriever(external_db_store, persistent_dir=\".agenticrag_data_custom/retrieved_data\")\n",
    "vector_retriever = VectorRetriever(text_store, persistent_dir=\".agenticrag_data_custom/retrieved_data\")\n",
    "table_retriever = TableRetriever(table_store, persistent_dir=\".agenticrag_data_custom/retrieved_data\")\n",
    "\n",
    "# Retrieve text data\n",
    "vector_retriever.retrieve(query=\"Self attention\", document_name=\"attention\")\n",
    "\n",
    "# Read retrieved data\n",
    "with open(\".agenticrag_data_custom/retrieved_data/text_data.txt\", \"r\") as f:\n",
    "    print(f.read())\n",
    "\n",
    "# Retrieve SQL data\n",
    "sql_retriever.retrieve(\"list all movies name and running duration whose name start with Sa\", db_name=\"movie_database\")\n",
    "\n",
    "# Read retrieved data\n",
    "with open(\".agenticrag_data_custom/retrieved_data/table_data.csv\", \"r\") as f:\n",
    "    print(f.read())"
   ]
  },
  {
   "cell_type": "markdown",
   "metadata": {},
   "source": [
    "## 5. Tasks: Acting on Retrieved Data\n",
    "\n",
    "Just retrieving data isn't enough; we need downstream tasks like question answering, chart generation, report creation, or making predictions. Tasks utilize retrieved context to perform specific operations.\n"
   ]
  },
  {
   "cell_type": "code",
   "execution_count": null,
   "metadata": {},
   "outputs": [],
   "source": [
    "from agenticrag.tasks import QuestionAnsweringTask, ChartGenerationTask\n",
    "\n",
    "# Initialize tasks\n",
    "qa_task = QuestionAnsweringTask()\n",
    "chart_generation = ChartGenerationTask()\n",
    "\n",
    "# Execute tasks with retrieved data\n",
    "qa_task.execute(\"Why is self attention important?\", \".agenticrag_data_custom/retrieved_data/text_data.txt\")\n",
    "chart_generation.execute(\"Generate a bar plot showing duration of each movie\", \".agenticrag_data_custom/retrieved_data/table_data.csv\")"
   ]
  },
  {
   "cell_type": "markdown",
   "metadata": {},
   "source": [
    "\n",
    "## Putting It All Together: RAGAgent\n",
    "\n",
    "Combining all these components creates the complete RAGAgent. You can provide specific retrievers and tasks to the agent as needed. Based on the provided retrievers, the agent will have access to certain stores and can load data directly into them.\n",
    "\n",
    "For larger projects, it's recommended to use separate loaders and use the central RAGAgent primarily as a controller that manages tasks and retrievers."
   ]
  },
  {
   "cell_type": "code",
   "execution_count": null,
   "metadata": {},
   "outputs": [],
   "source": [
    "from agenticrag import RAGAgent\n",
    "\n",
    "# Create a complete RAG agent\n",
    "agent = RAGAgent(\n",
    "    persistent_dir=\".agenticrag_data_custom\",\n",
    "    retrievers=[sql_retriever, vector_retriever, table_retriever],\n",
    "    tasks=[qa_task, chart_generation]\n",
    ")\n",
    "\n",
    "# Execute a query\n",
    "agent.invoke(\"What is multi-headed attention?\")"
   ]
  },
  {
   "cell_type": "markdown",
   "metadata": {},
   "source": [
    "This modular architecture allows you to customize any component while maintaining compatibility with the rest of the system, giving you the flexibility to adapt AgenticRAG to your specific needs."
   ]
  }
 ],
 "metadata": {
  "kernelspec": {
   "display_name": "agenticrag",
   "language": "python",
   "name": "python3"
  },
  "language_info": {
   "codemirror_mode": {
    "name": "ipython",
    "version": 3
   },
   "file_extension": ".py",
   "mimetype": "text/x-python",
   "name": "python",
   "nbconvert_exporter": "python",
   "pygments_lexer": "ipython3",
   "version": "3.10.16"
  }
 },
 "nbformat": 4,
 "nbformat_minor": 2
}
